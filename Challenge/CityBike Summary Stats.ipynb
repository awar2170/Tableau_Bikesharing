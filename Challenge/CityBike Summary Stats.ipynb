{
 "cells": [
  {
   "cell_type": "code",
   "execution_count": 1,
   "id": "cf9b8312",
   "metadata": {},
   "outputs": [],
   "source": [
    "import pandas as pd "
   ]
  },
  {
   "cell_type": "code",
   "execution_count": 2,
   "id": "2e3bbe16",
   "metadata": {},
   "outputs": [],
   "source": [
    "bike = 'Bike_Data.csv'\n",
    "bike_df = pd.read_csv(bike)"
   ]
  },
  {
   "cell_type": "code",
   "execution_count": 4,
   "id": "a84bda2c",
   "metadata": {},
   "outputs": [
    {
     "data": {
      "text/plain": [
       "count                 2344224\n",
       "unique                  12657\n",
       "top       1970-01-01 00:05:39\n",
       "freq                     2563\n",
       "Name: tripduration, dtype: object"
      ]
     },
     "execution_count": 4,
     "metadata": {},
     "output_type": "execute_result"
    }
   ],
   "source": [
    "bike_df[\"tripduration\"].describe()"
   ]
  },
  {
   "cell_type": "code",
   "execution_count": null,
   "id": "7cd38732",
   "metadata": {},
   "outputs": [],
   "source": []
  }
 ],
 "metadata": {
  "kernelspec": {
   "display_name": "PythonData",
   "language": "python",
   "name": "pythondata"
  },
  "language_info": {
   "codemirror_mode": {
    "name": "ipython",
    "version": 3
   },
   "file_extension": ".py",
   "mimetype": "text/x-python",
   "name": "python",
   "nbconvert_exporter": "python",
   "pygments_lexer": "ipython3",
   "version": "3.9.7"
  }
 },
 "nbformat": 4,
 "nbformat_minor": 5
}
